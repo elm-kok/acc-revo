{
 "cells": [
  {
   "cell_type": "code",
   "execution_count": 71,
   "metadata": {},
   "outputs": [],
   "source": [
    "import pandas as pd\n",
    "import numpy as np"
   ]
  },
  {
   "cell_type": "code",
   "execution_count": 72,
   "metadata": {},
   "outputs": [],
   "source": [
    "data0=pd.read_csv('train.csv')\n",
    "data1=pd.read_csv('test.csv')"
   ]
  },
  {
   "cell_type": "code",
   "execution_count": 73,
   "metadata": {},
   "outputs": [],
   "source": [
    "train=data0.item;"
   ]
  },
  {
   "cell_type": "code",
   "execution_count": 74,
   "metadata": {},
   "outputs": [],
   "source": [
    "import deepcut"
   ]
  },
  {
   "cell_type": "code",
   "execution_count": 75,
   "metadata": {},
   "outputs": [],
   "source": [
    "tmp0=[]\n",
    "for x in train:\n",
    "    tmp0.append(x.replace(' ','*').replace('(','*').replace(')','*').replace('-','*').replace('.','*'))\n",
    "tmp2=[y.split('*') for y in tmp0]\n",
    "del tmp0;\n",
    "tmp0=np.array([np.array(\" \".join(y).split()) for y in (x for x in tmp2) ])"
   ]
  },
  {
   "cell_type": "code",
   "execution_count": 76,
   "metadata": {},
   "outputs": [],
   "source": [
    "test=data1.acccode;\n",
    "tmp1=[x[:4]+x[5:7] for x in test]\n",
    "#a = \" \".join(tmp0[i]).split()"
   ]
  },
  {
   "cell_type": "code",
   "execution_count": 77,
   "metadata": {},
   "outputs": [],
   "source": [
    "from keras.models import Sequential\n",
    "from keras.layers import Dense,MaxPooling1D,Embedding,LSTM,Flatten,InputLayer,Conv1D,Input"
   ]
  },
  {
   "cell_type": "code",
   "execution_count": 78,
   "metadata": {},
   "outputs": [
    {
     "name": "stdout",
     "output_type": "stream",
     "text": [
      "['ออกแบบสินค้า' 'ต่อชิ้น']\n",
      "[0. 0. 0. ... 0. 0. 1.]\n"
     ]
    },
    {
     "data": {
      "text/plain": [
       "420011"
      ]
     },
     "execution_count": 78,
     "metadata": {},
     "output_type": "execute_result"
    }
   ],
   "source": [
    "from keras.utils import to_categorical\n",
    "target=to_categorical(tmp1)\n",
    "x_train=tmp0[:193]\n",
    "x_test=tmp0[-50:]\n",
    "y_train=target[:193]\n",
    "y_test=target[193:]\n",
    "print(x_train[3])\n",
    "print(y_train[0])\n",
    "len(y_train[0])"
   ]
  },
  {
   "cell_type": "code",
   "execution_count": 81,
   "metadata": {},
   "outputs": [
    {
     "data": {
      "text/plain": [
       "[array(['จำนวนเงินรวมทั้งสิ้น'], dtype='<U20'),\n",
       " array(['รวมจำนวนเงิน'], dtype='<U12'),\n",
       " array(['หัก', 'ณ', 'ที่จ่าย'], dtype='<U7'),\n",
       " array(['ออกแบบสินค้า', 'ต่อชิ้น'], dtype='<U12'),\n",
       " array(['ภาษีมูลค่าเพิ่ม', '7%'], dtype='<U15'),\n",
       " array(['หัก', 'ณ', 'ที่จ่าย'], dtype='<U7'),\n",
       " array(['ภาษีมูลค่าเพิ่ม', '7%'], dtype='<U15'),\n",
       " array(['ออกแบบสินค้า', 'ต่อชิ้น'], dtype='<U12'),\n",
       " array(['จำนวนเงินรวมทั้งสิ้น'], dtype='<U20'),\n",
       " array(['รวมจำนวนเงิน'], dtype='<U12'),\n",
       " array(['จำนวนเงินรวมทั้งสิ้น'], dtype='<U20'),\n",
       " array(['หัก', 'ณ', 'ที่จ่าย'], dtype='<U7'),\n",
       " array(['ออกแบบสินค้า', 'ต่อชิ้น'], dtype='<U12'),\n",
       " array(['รวมจำนวนเงิน'], dtype='<U12'),\n",
       " array(['ภาษีมูลค่าเพิ่ม', '7%'], dtype='<U15'),\n",
       " array(['หัก', 'ณ', 'ที่จ่าย'], dtype='<U7'),\n",
       " array(['จำนวนเงินรวมทั้งสิ้น'], dtype='<U20'),\n",
       " array(['รวมจำนวนเงิน'], dtype='<U12'),\n",
       " array(['ภาษีมูลค่าเพิ่ม', '7%'], dtype='<U15'),\n",
       " array(['ออกแบบสินค้า', 'ต่อชิ้น'], dtype='<U12'),\n",
       " array(['ออกแบบสินค้า', 'ต่อชิ้น'], dtype='<U12'),\n",
       " array(['รวมจำนวนเงิน'], dtype='<U12'),\n",
       " array(['ภาษีมูลค่าเพิ่ม', '7%'], dtype='<U15'),\n",
       " array(['จำนวนเงินรวมทั้งสิ้น'], dtype='<U20'),\n",
       " array(['หัก', 'ณ', 'ที่จ่าย'], dtype='<U7'),\n",
       " array(['ออกแบบสินค้า', 'ต่อชิ้น'], dtype='<U12'),\n",
       " array(['รวมจำนวนเงิน'], dtype='<U12'),\n",
       " array(['หัก', 'ณ', 'ที่จ่าย'], dtype='<U7'),\n",
       " array(['ภาษีมูลค่าเพิ่ม', '7%'], dtype='<U15'),\n",
       " array(['จำนวนเงินรวมทั้งสิ้น'], dtype='<U20'),\n",
       " array(['ออกแบบสินค้า', 'ต่อชิ้น'], dtype='<U12'),\n",
       " array(['ออกแบบสินค้า', 'ต่อชิ้น'], dtype='<U12'),\n",
       " array(['หัก', 'ณ', 'ที่จ่าย'], dtype='<U7'),\n",
       " array(['จำนวนเงินรวมทั้งสิ้น'], dtype='<U20'),\n",
       " array(['ภาษีมูลค่าเพิ่ม', '7%'], dtype='<U15'),\n",
       " array(['รวมจำนวนเงิน'], dtype='<U12'),\n",
       " array(['ภาษีมูลค่าเพิ่ม', '7%'], dtype='<U15'),\n",
       " array(['หัก', 'ณ', 'ที่จ่าย'], dtype='<U7'),\n",
       " array(['รวมจำนวนเงิน'], dtype='<U12'),\n",
       " array(['จำนวนเงินรวมทั้งสิ้น'], dtype='<U20'),\n",
       " array(['ออกแบบสินค้า', 'ต่อชิ้น'], dtype='<U12'),\n",
       " array(['ออกแบบสินค้า', 'ต่อชิ้น'], dtype='<U12'),\n",
       " array(['รวมจำนวนเงิน'], dtype='<U12'),\n",
       " array(['ภาษีมูลค่าเพิ่ม', '7%'], dtype='<U15'),\n",
       " array(['จำนวนเงินรวมทั้งสิ้น'], dtype='<U20'),\n",
       " array(['หัก', 'ณ', 'ที่จ่าย'], dtype='<U7'),\n",
       " array(['รวมจำนวนเงิน'], dtype='<U12'),\n",
       " array(['จำนวนเงินรวมทั้งสิ้น'], dtype='<U20'),\n",
       " array(['หัก', 'ณ', 'ที่จ่าย'], dtype='<U7'),\n",
       " array(['ออกแบบสินค้า', 'ต่อชิ้น'], dtype='<U12'),\n",
       " array(['ภาษีมูลค่าเพิ่ม', '7%'], dtype='<U15'),\n",
       " array(['หัก', 'ณ', 'ที่จ่าย'], dtype='<U7'),\n",
       " array(['จำนวนเงินรวมทั้งสิ้น'], dtype='<U20'),\n",
       " array(['รวมจำนวนเงิน'], dtype='<U12'),\n",
       " array(['ภาษีมูลค่าเพิ่ม', '7%'], dtype='<U15'),\n",
       " array(['ออกแบบสินค้า', 'ต่อชิ้น'], dtype='<U12'),\n",
       " array(['รวมจำนวนเงิน'], dtype='<U12'),\n",
       " array(['จำนวนเงินรวมทั้งสิ้น'], dtype='<U20'),\n",
       " array(['ภาษีมูลค่าเพิ่ม', '7%'], dtype='<U15'),\n",
       " array(['ออกแบบสินค้า', 'ต่อชิ้น'], dtype='<U12'),\n",
       " array(['หัก', 'ณ', 'ที่จ่าย'], dtype='<U7'),\n",
       " array(['ภาษีมูลค่าเพิ่ม', '7%'], dtype='<U15'),\n",
       " array(['จำนวนเงินรวมทั้งสิ้น'], dtype='<U20'),\n",
       " array(['รวมจำนวนเงิน'], dtype='<U12'),\n",
       " array(['หัก', 'ณ', 'ที่จ่าย'], dtype='<U7'),\n",
       " array(['ออกแบบสินค้า', 'ต่อชิ้น'], dtype='<U12'),\n",
       " array(['ภาษีขายรอใบกำกับภาษี'], dtype='<U20'),\n",
       " array(['รายได้ค่าบริการ'], dtype='<U15'),\n",
       " array(['ลูกหนี้การค้า', 'บจ', 'กอขอคอ', 'สาขา', '00001'], dtype='<U13'),\n",
       " array(['ลูกหนี้อื่น'], dtype='<U11'),\n",
       " array(['รายได้จากการขายสินค้า', 'บริษัทที่เกี่ยวข้องกัน'], dtype='<U22'),\n",
       " array(['ภาษีขาย'], dtype='<U7'),\n",
       " array(['ค่าบริการออกแบบ'], dtype='<U15'),\n",
       " array(['vat'], dtype='<U3'),\n",
       " array(['รวมจำนวนเงิน'], dtype='<U12'),\n",
       " array(['ค่าบริการออกแบบ'], dtype='<U15'),\n",
       " array(['vat'], dtype='<U3'),\n",
       " array(['รวมจำนวนเงิน'], dtype='<U12'),\n",
       " array(['ค่าบริการออกแบบ'], dtype='<U15'),\n",
       " array(['vat'], dtype='<U3'),\n",
       " array(['รวมจำนวนเงิน'], dtype='<U12'),\n",
       " array(['ค่าบริการออกแบบ'], dtype='<U15'),\n",
       " array(['vat'], dtype='<U3'),\n",
       " array(['รวมจำนวนเงิน'], dtype='<U12'),\n",
       " array(['ค่าบริการออกแบบ'], dtype='<U15'),\n",
       " array(['vat'], dtype='<U3'),\n",
       " array(['รวมจำนวนเงิน'], dtype='<U12'),\n",
       " array(['ค่าบริการออกแบบ'], dtype='<U15'),\n",
       " array(['vat'], dtype='<U3'),\n",
       " array(['รวมจำนวนเงิน'], dtype='<U12'),\n",
       " array(['ค่าบริการออกแบบ'], dtype='<U15'),\n",
       " array(['vat'], dtype='<U3'),\n",
       " array(['รวมจำนวนเงิน'], dtype='<U12'),\n",
       " array(['ค่าบริการออกแบบ'], dtype='<U15'),\n",
       " array(['vat'], dtype='<U3'),\n",
       " array(['รวมจำนวนเงิน'], dtype='<U12'),\n",
       " array(['ค่าบริการออกแบบ'], dtype='<U15'),\n",
       " array(['vat'], dtype='<U3'),\n",
       " array(['รวมจำนวนเงิน'], dtype='<U12'),\n",
       " array(['ค่าบริการออกแบบ'], dtype='<U15'),\n",
       " array(['vat'], dtype='<U3'),\n",
       " array(['รวมจำนวนเงิน'], dtype='<U12'),\n",
       " array(['ค่าบริการออกแบบ'], dtype='<U15'),\n",
       " array(['vat'], dtype='<U3'),\n",
       " array(['รวมจำนวนเงิน'], dtype='<U12'),\n",
       " array(['ค่าบริการออกแบบ'], dtype='<U15'),\n",
       " array(['vat'], dtype='<U3'),\n",
       " array(['รวมจำนวนเงิน'], dtype='<U12'),\n",
       " array(['ค่าบริการออกแบบ'], dtype='<U15'),\n",
       " array(['vat'], dtype='<U3'),\n",
       " array(['รวมจำนวนเงิน'], dtype='<U12'),\n",
       " array(['ค่าบริการออกแบบ'], dtype='<U15'),\n",
       " array(['vat'], dtype='<U3'),\n",
       " array(['รวมจำนวนเงิน'], dtype='<U12'),\n",
       " array(['ค่าบริการออกแบบ'], dtype='<U15'),\n",
       " array(['vat'], dtype='<U3'),\n",
       " array(['รวมจำนวนเงิน'], dtype='<U12'),\n",
       " array(['ค่าบริการออกแบบ'], dtype='<U15'),\n",
       " array(['vat'], dtype='<U3'),\n",
       " array(['รวมจำนวนเงิน'], dtype='<U12'),\n",
       " array(['ค่าบริการออกแบบ'], dtype='<U15'),\n",
       " array(['vat'], dtype='<U3'),\n",
       " array(['รวมจำนวนเงิน'], dtype='<U12'),\n",
       " array(['ค่าบริการออกแบบ'], dtype='<U15'),\n",
       " array(['vat'], dtype='<U3'),\n",
       " array(['รวมจำนวนเงิน'], dtype='<U12'),\n",
       " array(['ค่าบริการออกแบบ'], dtype='<U15'),\n",
       " array(['vat'], dtype='<U3'),\n",
       " array(['รวมจำนวนเงิน'], dtype='<U12'),\n",
       " array(['ค่าบริการออกแบบ'], dtype='<U15'),\n",
       " array(['vat'], dtype='<U3'),\n",
       " array(['รวมจำนวนเงิน'], dtype='<U12'),\n",
       " array(['ค่าบริการออกแบบ'], dtype='<U15'),\n",
       " array(['vat'], dtype='<U3'),\n",
       " array(['รวมจำนวนเงิน'], dtype='<U12'),\n",
       " array(['ค่าบริการออกแบบ'], dtype='<U15'),\n",
       " array(['vat'], dtype='<U3'),\n",
       " array(['รวมจำนวนเงิน'], dtype='<U12'),\n",
       " array(['ค่าบริการออกแบบ'], dtype='<U15'),\n",
       " array(['vat'], dtype='<U3'),\n",
       " array(['รวมจำนวนเงิน'], dtype='<U12'),\n",
       " array(['ค่าบริการออกแบบ'], dtype='<U15'),\n",
       " array(['vat'], dtype='<U3'),\n",
       " array(['รวมจำนวนเงิน'], dtype='<U12'),\n",
       " array(['ลูกหนี้การค้า'], dtype='<U13'),\n",
       " array(['รายได้ค่าบริการ'], dtype='<U15'),\n",
       " array(['ภาษีขาย'], dtype='<U7'),\n",
       " array(['ค่าออกแบบสถาปัตยกรรมภายใน', 'อาคารสำนักงาน'], dtype='<U25'),\n",
       " array(['ภาษีมูลค่าเพิ่ม', '7%'], dtype='<U15'),\n",
       " array(['จำนวนเงินทั้งสิ้น'], dtype='<U17'),\n",
       " array(['ค่าใช้จ่ายเพิ่มเติมการตกแต่งบ้านตัวอย่าง'], dtype='<U40'),\n",
       " array(['ภาษีมูลค่าเพิ่ม', '7%'], dtype='<U15'),\n",
       " array(['จำนวนเงินทั้งสิ้น'], dtype='<U17'),\n",
       " array(['Mobilization', 'Fee', '50', 'อาคารสำนักงาน'], dtype='<U13'),\n",
       " array(['ภาษีมูลค่าเพิ่ม', '7%'], dtype='<U15'),\n",
       " array(['จำนวนเงินทั้งสิ้น'], dtype='<U17'),\n",
       " array(['Completion', '50'], dtype='<U10'),\n",
       " array(['ภาษีมูลค่าเพิ่ม', '7%'], dtype='<U15'),\n",
       " array(['จำนวนเงินทั้งสิ้น'], dtype='<U17'),\n",
       " array(['ค่าบริการออกแบบสถาปัตยกรรมภายใน', 'โครงการ', 'SCG', 'HEIM', 'at',\n",
       "        'CREA'], dtype='<U31'),\n",
       " array(['ภาษีมูลคาเพิ่ม', '7%'], dtype='<U14'),\n",
       " array(['รวมทั้งสิ้น'], dtype='<U11'),\n",
       " array(['ค่าออกแบบสถาปัตยกรรมภายใน', 'โครงการ', 'AP', 'LIFE', 'ASOKE'],\n",
       "       dtype='<U25'),\n",
       " array(['ภาษีมูลคาเพิ่ม', '7%'], dtype='<U14'),\n",
       " array(['รวมทั้งสิ้น'], dtype='<U11'),\n",
       " array(['ค่าบริการออกแบบ'], dtype='<U15'),\n",
       " array(['ภาษีมูลค่าเพิ่ม'], dtype='<U15'),\n",
       " array(['รวมจำนวนเงิน'], dtype='<U12'),\n",
       " array(['ค่าบริการออกแบบ'], dtype='<U15'),\n",
       " array(['ภาษีมูลค่าเพิ่ม'], dtype='<U15'),\n",
       " array(['รวมจำนวนเงิน'], dtype='<U12'),\n",
       " array(['ค่าบริการออกแบบ'], dtype='<U15'),\n",
       " array(['ภาษีมูลค่าเพิ่ม'], dtype='<U15'),\n",
       " array(['รวมจำนวนเงิน'], dtype='<U12'),\n",
       " array(['ค่าบริการออกแบบ'], dtype='<U15'),\n",
       " array(['ภาษีมูลค่าเพิ่ม'], dtype='<U15'),\n",
       " array(['รวมจำนวนเงิน'], dtype='<U12'),\n",
       " array(['ค่าบริการออกแบบ'], dtype='<U15'),\n",
       " array(['ภาษีมูลค่าเพิ่ม'], dtype='<U15'),\n",
       " array(['รวมจำนวนเงิน'], dtype='<U12'),\n",
       " array(['ค่าบริการออกแบบ'], dtype='<U15'),\n",
       " array(['ภาษีมูลค่าเพิ่ม'], dtype='<U15'),\n",
       " array(['รวมจำนวนเงิน'], dtype='<U12'),\n",
       " array(['ค่าบริการออกแบบ'], dtype='<U15'),\n",
       " array(['ภาษีมูลค่าเพิ่ม'], dtype='<U15'),\n",
       " array(['รวมจำนวนเงิน'], dtype='<U12'),\n",
       " array(['ค่าบริการออกแบบ'], dtype='<U15'),\n",
       " array(['ภาษีมูลค่าเพิ่ม'], dtype='<U15'),\n",
       " array(['รวมจำนวนเงิน'], dtype='<U12'),\n",
       " array(['ค่ากระดาษ'], dtype='<U9'),\n",
       " array(['ค่ารูป'], dtype='<U6'),\n",
       " array(['ภาษีมูลค่าเพิ่ม'], dtype='<U15'),\n",
       " array(['รวมจำนวนเงิน'], dtype='<U12')]"
      ]
     },
     "execution_count": 81,
     "metadata": {},
     "output_type": "execute_result"
    }
   ],
   "source": [
    "[x for x in x_train]"
   ]
  },
  {
   "cell_type": "code",
   "execution_count": 85,
   "metadata": {},
   "outputs": [
    {
     "name": "stdout",
     "output_type": "stream",
     "text": [
      "Buidl model...\n"
     ]
    },
    {
     "ename": "ValueError",
     "evalue": "Negative dimension size caused by subtracting 5 from 1 for 'conv1d_26/convolution/Conv2D' (op: 'Conv2D') with input shapes: [?,1,1,128], [1,5,128,128].",
     "output_type": "error",
     "traceback": [
      "\u001b[0;31m---------------------------------------------------------------------------\u001b[0m",
      "\u001b[0;31mInvalidArgumentError\u001b[0m                      Traceback (most recent call last)",
      "\u001b[0;32m~/anaconda3/lib/python3.6/site-packages/tensorflow/python/framework/common_shapes.py\u001b[0m in \u001b[0;36m_call_cpp_shape_fn_impl\u001b[0;34m(op, input_tensors_needed, input_tensors_as_shapes_needed, debug_python_shape_fn, require_shape_fn)\u001b[0m\n\u001b[1;32m    670\u001b[0m           \u001b[0mgraph_def_version\u001b[0m\u001b[0;34m,\u001b[0m \u001b[0mnode_def_str\u001b[0m\u001b[0;34m,\u001b[0m \u001b[0minput_shapes\u001b[0m\u001b[0;34m,\u001b[0m \u001b[0minput_tensors\u001b[0m\u001b[0;34m,\u001b[0m\u001b[0;34m\u001b[0m\u001b[0m\n\u001b[0;32m--> 671\u001b[0;31m           input_tensors_as_shapes, status)\n\u001b[0m\u001b[1;32m    672\u001b[0m   \u001b[0;32mexcept\u001b[0m \u001b[0merrors\u001b[0m\u001b[0;34m.\u001b[0m\u001b[0mInvalidArgumentError\u001b[0m \u001b[0;32mas\u001b[0m \u001b[0merr\u001b[0m\u001b[0;34m:\u001b[0m\u001b[0;34m\u001b[0m\u001b[0m\n",
      "\u001b[0;32m~/anaconda3/lib/python3.6/contextlib.py\u001b[0m in \u001b[0;36m__exit__\u001b[0;34m(self, type, value, traceback)\u001b[0m\n\u001b[1;32m     87\u001b[0m             \u001b[0;32mtry\u001b[0m\u001b[0;34m:\u001b[0m\u001b[0;34m\u001b[0m\u001b[0m\n\u001b[0;32m---> 88\u001b[0;31m                 \u001b[0mnext\u001b[0m\u001b[0;34m(\u001b[0m\u001b[0mself\u001b[0m\u001b[0;34m.\u001b[0m\u001b[0mgen\u001b[0m\u001b[0;34m)\u001b[0m\u001b[0;34m\u001b[0m\u001b[0m\n\u001b[0m\u001b[1;32m     89\u001b[0m             \u001b[0;32mexcept\u001b[0m \u001b[0mStopIteration\u001b[0m\u001b[0;34m:\u001b[0m\u001b[0;34m\u001b[0m\u001b[0m\n",
      "\u001b[0;32m~/anaconda3/lib/python3.6/site-packages/tensorflow/python/framework/errors_impl.py\u001b[0m in \u001b[0;36mraise_exception_on_not_ok_status\u001b[0;34m()\u001b[0m\n\u001b[1;32m    465\u001b[0m           \u001b[0mcompat\u001b[0m\u001b[0;34m.\u001b[0m\u001b[0mas_text\u001b[0m\u001b[0;34m(\u001b[0m\u001b[0mpywrap_tensorflow\u001b[0m\u001b[0;34m.\u001b[0m\u001b[0mTF_Message\u001b[0m\u001b[0;34m(\u001b[0m\u001b[0mstatus\u001b[0m\u001b[0;34m)\u001b[0m\u001b[0;34m)\u001b[0m\u001b[0;34m,\u001b[0m\u001b[0;34m\u001b[0m\u001b[0m\n\u001b[0;32m--> 466\u001b[0;31m           pywrap_tensorflow.TF_GetCode(status))\n\u001b[0m\u001b[1;32m    467\u001b[0m   \u001b[0;32mfinally\u001b[0m\u001b[0;34m:\u001b[0m\u001b[0;34m\u001b[0m\u001b[0m\n",
      "\u001b[0;31mInvalidArgumentError\u001b[0m: Negative dimension size caused by subtracting 5 from 1 for 'conv1d_26/convolution/Conv2D' (op: 'Conv2D') with input shapes: [?,1,1,128], [1,5,128,128].",
      "\nDuring handling of the above exception, another exception occurred:\n",
      "\u001b[0;31mValueError\u001b[0m                                Traceback (most recent call last)",
      "\u001b[0;32m<ipython-input-85-0771c904e673>\u001b[0m in \u001b[0;36m<module>\u001b[0;34m()\u001b[0m\n\u001b[1;32m      5\u001b[0m \u001b[0mmodel\u001b[0m\u001b[0;34m.\u001b[0m\u001b[0madd\u001b[0m\u001b[0;34m(\u001b[0m\u001b[0mConv1D\u001b[0m\u001b[0;34m(\u001b[0m\u001b[0;36m128\u001b[0m\u001b[0;34m,\u001b[0m \u001b[0;36m5\u001b[0m\u001b[0;34m,\u001b[0m \u001b[0mactivation\u001b[0m\u001b[0;34m=\u001b[0m\u001b[0;34m'relu'\u001b[0m\u001b[0;34m)\u001b[0m\u001b[0;34m)\u001b[0m\u001b[0;34m\u001b[0m\u001b[0m\n\u001b[1;32m      6\u001b[0m \u001b[0mmodel\u001b[0m\u001b[0;34m.\u001b[0m\u001b[0madd\u001b[0m\u001b[0;34m(\u001b[0m\u001b[0mMaxPooling1D\u001b[0m\u001b[0;34m(\u001b[0m\u001b[0;36m5\u001b[0m\u001b[0;34m)\u001b[0m\u001b[0;34m)\u001b[0m\u001b[0;34m\u001b[0m\u001b[0m\n\u001b[0;32m----> 7\u001b[0;31m \u001b[0mmodel\u001b[0m\u001b[0;34m.\u001b[0m\u001b[0madd\u001b[0m\u001b[0;34m(\u001b[0m\u001b[0mConv1D\u001b[0m\u001b[0;34m(\u001b[0m\u001b[0;36m128\u001b[0m\u001b[0;34m,\u001b[0m \u001b[0;36m5\u001b[0m\u001b[0;34m,\u001b[0m \u001b[0mactivation\u001b[0m\u001b[0;34m=\u001b[0m\u001b[0;34m'relu'\u001b[0m\u001b[0;34m)\u001b[0m\u001b[0;34m)\u001b[0m\u001b[0;34m\u001b[0m\u001b[0m\n\u001b[0m\u001b[1;32m      8\u001b[0m \u001b[0mmodel\u001b[0m\u001b[0;34m.\u001b[0m\u001b[0madd\u001b[0m\u001b[0;34m(\u001b[0m\u001b[0mMaxPooling1D\u001b[0m\u001b[0;34m(\u001b[0m\u001b[0;36m35\u001b[0m\u001b[0;34m)\u001b[0m\u001b[0;34m)\u001b[0m\u001b[0;34m\u001b[0m\u001b[0m\n\u001b[1;32m      9\u001b[0m \u001b[0mmodel\u001b[0m\u001b[0;34m.\u001b[0m\u001b[0madd\u001b[0m\u001b[0;34m(\u001b[0m\u001b[0mFlatten\u001b[0m\u001b[0;34m(\u001b[0m\u001b[0;34m)\u001b[0m\u001b[0;34m)\u001b[0m\u001b[0;34m\u001b[0m\u001b[0m\n",
      "\u001b[0;32m~/.local/lib/python3.6/site-packages/keras/models.py\u001b[0m in \u001b[0;36madd\u001b[0;34m(self, layer)\u001b[0m\n\u001b[1;32m    520\u001b[0m                           output_shapes=[self.outputs[0]._keras_shape])\n\u001b[1;32m    521\u001b[0m         \u001b[0;32melse\u001b[0m\u001b[0;34m:\u001b[0m\u001b[0;34m\u001b[0m\u001b[0m\n\u001b[0;32m--> 522\u001b[0;31m             \u001b[0moutput_tensor\u001b[0m \u001b[0;34m=\u001b[0m \u001b[0mlayer\u001b[0m\u001b[0;34m(\u001b[0m\u001b[0mself\u001b[0m\u001b[0;34m.\u001b[0m\u001b[0moutputs\u001b[0m\u001b[0;34m[\u001b[0m\u001b[0;36m0\u001b[0m\u001b[0;34m]\u001b[0m\u001b[0;34m)\u001b[0m\u001b[0;34m\u001b[0m\u001b[0m\n\u001b[0m\u001b[1;32m    523\u001b[0m             \u001b[0;32mif\u001b[0m \u001b[0misinstance\u001b[0m\u001b[0;34m(\u001b[0m\u001b[0moutput_tensor\u001b[0m\u001b[0;34m,\u001b[0m \u001b[0mlist\u001b[0m\u001b[0;34m)\u001b[0m\u001b[0;34m:\u001b[0m\u001b[0;34m\u001b[0m\u001b[0m\n\u001b[1;32m    524\u001b[0m                 raise TypeError('All layers in a Sequential model '\n",
      "\u001b[0;32m~/.local/lib/python3.6/site-packages/keras/engine/topology.py\u001b[0m in \u001b[0;36m__call__\u001b[0;34m(self, inputs, **kwargs)\u001b[0m\n\u001b[1;32m    617\u001b[0m \u001b[0;34m\u001b[0m\u001b[0m\n\u001b[1;32m    618\u001b[0m             \u001b[0;31m# Actually call the layer, collecting output(s), mask(s), and shape(s).\u001b[0m\u001b[0;34m\u001b[0m\u001b[0;34m\u001b[0m\u001b[0m\n\u001b[0;32m--> 619\u001b[0;31m             \u001b[0moutput\u001b[0m \u001b[0;34m=\u001b[0m \u001b[0mself\u001b[0m\u001b[0;34m.\u001b[0m\u001b[0mcall\u001b[0m\u001b[0;34m(\u001b[0m\u001b[0minputs\u001b[0m\u001b[0;34m,\u001b[0m \u001b[0;34m**\u001b[0m\u001b[0mkwargs\u001b[0m\u001b[0;34m)\u001b[0m\u001b[0;34m\u001b[0m\u001b[0m\n\u001b[0m\u001b[1;32m    620\u001b[0m             \u001b[0moutput_mask\u001b[0m \u001b[0;34m=\u001b[0m \u001b[0mself\u001b[0m\u001b[0;34m.\u001b[0m\u001b[0mcompute_mask\u001b[0m\u001b[0;34m(\u001b[0m\u001b[0minputs\u001b[0m\u001b[0;34m,\u001b[0m \u001b[0mprevious_mask\u001b[0m\u001b[0;34m)\u001b[0m\u001b[0;34m\u001b[0m\u001b[0m\n\u001b[1;32m    621\u001b[0m \u001b[0;34m\u001b[0m\u001b[0m\n",
      "\u001b[0;32m~/.local/lib/python3.6/site-packages/keras/layers/convolutional.py\u001b[0m in \u001b[0;36mcall\u001b[0;34m(self, inputs)\u001b[0m\n\u001b[1;32m    158\u001b[0m                 \u001b[0mpadding\u001b[0m\u001b[0;34m=\u001b[0m\u001b[0mself\u001b[0m\u001b[0;34m.\u001b[0m\u001b[0mpadding\u001b[0m\u001b[0;34m,\u001b[0m\u001b[0;34m\u001b[0m\u001b[0m\n\u001b[1;32m    159\u001b[0m                 \u001b[0mdata_format\u001b[0m\u001b[0;34m=\u001b[0m\u001b[0mself\u001b[0m\u001b[0;34m.\u001b[0m\u001b[0mdata_format\u001b[0m\u001b[0;34m,\u001b[0m\u001b[0;34m\u001b[0m\u001b[0m\n\u001b[0;32m--> 160\u001b[0;31m                 dilation_rate=self.dilation_rate[0])\n\u001b[0m\u001b[1;32m    161\u001b[0m         \u001b[0;32mif\u001b[0m \u001b[0mself\u001b[0m\u001b[0;34m.\u001b[0m\u001b[0mrank\u001b[0m \u001b[0;34m==\u001b[0m \u001b[0;36m2\u001b[0m\u001b[0;34m:\u001b[0m\u001b[0;34m\u001b[0m\u001b[0m\n\u001b[1;32m    162\u001b[0m             outputs = K.conv2d(\n",
      "\u001b[0;32m~/.local/lib/python3.6/site-packages/keras/backend/tensorflow_backend.py\u001b[0m in \u001b[0;36mconv1d\u001b[0;34m(x, kernel, strides, padding, data_format, dilation_rate)\u001b[0m\n\u001b[1;32m   3301\u001b[0m         \u001b[0mstrides\u001b[0m\u001b[0;34m=\u001b[0m\u001b[0;34m(\u001b[0m\u001b[0mstrides\u001b[0m\u001b[0;34m,\u001b[0m\u001b[0;34m)\u001b[0m\u001b[0;34m,\u001b[0m\u001b[0;34m\u001b[0m\u001b[0m\n\u001b[1;32m   3302\u001b[0m         \u001b[0mpadding\u001b[0m\u001b[0;34m=\u001b[0m\u001b[0mpadding\u001b[0m\u001b[0;34m,\u001b[0m\u001b[0;34m\u001b[0m\u001b[0m\n\u001b[0;32m-> 3303\u001b[0;31m         data_format=tf_data_format)\n\u001b[0m\u001b[1;32m   3304\u001b[0m     \u001b[0;32mreturn\u001b[0m \u001b[0mx\u001b[0m\u001b[0;34m\u001b[0m\u001b[0m\n\u001b[1;32m   3305\u001b[0m \u001b[0;34m\u001b[0m\u001b[0m\n",
      "\u001b[0;32m~/anaconda3/lib/python3.6/site-packages/tensorflow/python/ops/nn_ops.py\u001b[0m in \u001b[0;36mconvolution\u001b[0;34m(input, filter, padding, strides, dilation_rate, name, data_format)\u001b[0m\n\u001b[1;32m    659\u001b[0m         \u001b[0mdilation_rate\u001b[0m\u001b[0;34m=\u001b[0m\u001b[0mdilation_rate\u001b[0m\u001b[0;34m,\u001b[0m\u001b[0;34m\u001b[0m\u001b[0m\n\u001b[1;32m    660\u001b[0m         \u001b[0mpadding\u001b[0m\u001b[0;34m=\u001b[0m\u001b[0mpadding\u001b[0m\u001b[0;34m,\u001b[0m\u001b[0;34m\u001b[0m\u001b[0m\n\u001b[0;32m--> 661\u001b[0;31m         op=op)\n\u001b[0m\u001b[1;32m    662\u001b[0m \u001b[0;34m\u001b[0m\u001b[0m\n\u001b[1;32m    663\u001b[0m \u001b[0;34m\u001b[0m\u001b[0m\n",
      "\u001b[0;32m~/anaconda3/lib/python3.6/site-packages/tensorflow/python/ops/nn_ops.py\u001b[0m in \u001b[0;36mwith_space_to_batch\u001b[0;34m(input, dilation_rate, padding, op, filter_shape, spatial_dims, data_format)\u001b[0m\n\u001b[1;32m    329\u001b[0m       \u001b[0;32mraise\u001b[0m \u001b[0mValueError\u001b[0m\u001b[0;34m(\u001b[0m\u001b[0;34m\"dilation_rate must be positive\"\u001b[0m\u001b[0;34m)\u001b[0m\u001b[0;34m\u001b[0m\u001b[0m\n\u001b[1;32m    330\u001b[0m     \u001b[0;32mif\u001b[0m \u001b[0mnp\u001b[0m\u001b[0;34m.\u001b[0m\u001b[0mall\u001b[0m\u001b[0;34m(\u001b[0m\u001b[0mconst_rate\u001b[0m \u001b[0;34m==\u001b[0m \u001b[0;36m1\u001b[0m\u001b[0;34m)\u001b[0m\u001b[0;34m:\u001b[0m\u001b[0;34m\u001b[0m\u001b[0m\n\u001b[0;32m--> 331\u001b[0;31m       \u001b[0;32mreturn\u001b[0m \u001b[0mop\u001b[0m\u001b[0;34m(\u001b[0m\u001b[0minput\u001b[0m\u001b[0;34m,\u001b[0m \u001b[0mnum_spatial_dims\u001b[0m\u001b[0;34m,\u001b[0m \u001b[0mpadding\u001b[0m\u001b[0;34m)\u001b[0m\u001b[0;34m\u001b[0m\u001b[0m\n\u001b[0m\u001b[1;32m    332\u001b[0m \u001b[0;34m\u001b[0m\u001b[0m\n\u001b[1;32m    333\u001b[0m   \u001b[0;31m# We have two padding contributions. The first is used for converting \"SAME\"\u001b[0m\u001b[0;34m\u001b[0m\u001b[0;34m\u001b[0m\u001b[0m\n",
      "\u001b[0;32m~/anaconda3/lib/python3.6/site-packages/tensorflow/python/ops/nn_ops.py\u001b[0m in \u001b[0;36mop\u001b[0;34m(input_converted, _, padding)\u001b[0m\n\u001b[1;32m    651\u001b[0m           \u001b[0mdata_format\u001b[0m\u001b[0;34m=\u001b[0m\u001b[0mdata_format\u001b[0m\u001b[0;34m,\u001b[0m\u001b[0;34m\u001b[0m\u001b[0m\n\u001b[1;32m    652\u001b[0m           \u001b[0mstrides\u001b[0m\u001b[0;34m=\u001b[0m\u001b[0mstrides\u001b[0m\u001b[0;34m,\u001b[0m\u001b[0;34m\u001b[0m\u001b[0m\n\u001b[0;32m--> 653\u001b[0;31m           name=name)\n\u001b[0m\u001b[1;32m    654\u001b[0m \u001b[0;34m\u001b[0m\u001b[0m\n\u001b[1;32m    655\u001b[0m     return with_space_to_batch(\n",
      "\u001b[0;32m~/anaconda3/lib/python3.6/site-packages/tensorflow/python/ops/nn_ops.py\u001b[0m in \u001b[0;36m_non_atrous_convolution\u001b[0;34m(input, filter, padding, data_format, strides, name)\u001b[0m\n\u001b[1;32m    112\u001b[0m           \u001b[0mpadding\u001b[0m\u001b[0;34m=\u001b[0m\u001b[0mpadding\u001b[0m\u001b[0;34m,\u001b[0m\u001b[0;34m\u001b[0m\u001b[0m\n\u001b[1;32m    113\u001b[0m           \u001b[0mdata_format\u001b[0m\u001b[0;34m=\u001b[0m\u001b[0mdata_format_2d\u001b[0m\u001b[0;34m,\u001b[0m\u001b[0;34m\u001b[0m\u001b[0m\n\u001b[0;32m--> 114\u001b[0;31m           name=scope)\n\u001b[0m\u001b[1;32m    115\u001b[0m     \u001b[0;32melif\u001b[0m \u001b[0mconv_dims\u001b[0m \u001b[0;34m==\u001b[0m \u001b[0;36m2\u001b[0m\u001b[0;34m:\u001b[0m\u001b[0;34m\u001b[0m\u001b[0m\n\u001b[1;32m    116\u001b[0m       \u001b[0;32mif\u001b[0m \u001b[0mdata_format\u001b[0m \u001b[0;32mis\u001b[0m \u001b[0;32mNone\u001b[0m \u001b[0;32mor\u001b[0m \u001b[0mdata_format\u001b[0m \u001b[0;34m==\u001b[0m \u001b[0;34m\"NHWC\"\u001b[0m\u001b[0;34m:\u001b[0m\u001b[0;34m\u001b[0m\u001b[0m\n",
      "\u001b[0;32m~/anaconda3/lib/python3.6/site-packages/tensorflow/python/ops/nn_ops.py\u001b[0m in \u001b[0;36mconv1d\u001b[0;34m(value, filters, stride, padding, use_cudnn_on_gpu, data_format, name)\u001b[0m\n\u001b[1;32m   2060\u001b[0m     result = gen_nn_ops.conv2d(value, filters, strides, padding,\n\u001b[1;32m   2061\u001b[0m                                \u001b[0muse_cudnn_on_gpu\u001b[0m\u001b[0;34m=\u001b[0m\u001b[0muse_cudnn_on_gpu\u001b[0m\u001b[0;34m,\u001b[0m\u001b[0;34m\u001b[0m\u001b[0m\n\u001b[0;32m-> 2062\u001b[0;31m                                data_format=data_format)\n\u001b[0m\u001b[1;32m   2063\u001b[0m     \u001b[0;32mreturn\u001b[0m \u001b[0marray_ops\u001b[0m\u001b[0;34m.\u001b[0m\u001b[0msqueeze\u001b[0m\u001b[0;34m(\u001b[0m\u001b[0mresult\u001b[0m\u001b[0;34m,\u001b[0m \u001b[0;34m[\u001b[0m\u001b[0mspatial_start_dim\u001b[0m\u001b[0;34m]\u001b[0m\u001b[0;34m)\u001b[0m\u001b[0;34m\u001b[0m\u001b[0m\n\u001b[1;32m   2064\u001b[0m \u001b[0;34m\u001b[0m\u001b[0m\n",
      "\u001b[0;32m~/anaconda3/lib/python3.6/site-packages/tensorflow/python/ops/gen_nn_ops.py\u001b[0m in \u001b[0;36mconv2d\u001b[0;34m(input, filter, strides, padding, use_cudnn_on_gpu, data_format, name)\u001b[0m\n\u001b[1;32m    401\u001b[0m                                 \u001b[0mstrides\u001b[0m\u001b[0;34m=\u001b[0m\u001b[0mstrides\u001b[0m\u001b[0;34m,\u001b[0m \u001b[0mpadding\u001b[0m\u001b[0;34m=\u001b[0m\u001b[0mpadding\u001b[0m\u001b[0;34m,\u001b[0m\u001b[0;34m\u001b[0m\u001b[0m\n\u001b[1;32m    402\u001b[0m                                 \u001b[0muse_cudnn_on_gpu\u001b[0m\u001b[0;34m=\u001b[0m\u001b[0muse_cudnn_on_gpu\u001b[0m\u001b[0;34m,\u001b[0m\u001b[0;34m\u001b[0m\u001b[0m\n\u001b[0;32m--> 403\u001b[0;31m                                 data_format=data_format, name=name)\n\u001b[0m\u001b[1;32m    404\u001b[0m   \u001b[0;32mreturn\u001b[0m \u001b[0mresult\u001b[0m\u001b[0;34m\u001b[0m\u001b[0m\n\u001b[1;32m    405\u001b[0m \u001b[0;34m\u001b[0m\u001b[0m\n",
      "\u001b[0;32m~/anaconda3/lib/python3.6/site-packages/tensorflow/python/framework/op_def_library.py\u001b[0m in \u001b[0;36mapply_op\u001b[0;34m(self, op_type_name, name, **keywords)\u001b[0m\n\u001b[1;32m    766\u001b[0m         op = g.create_op(op_type_name, inputs, output_types, name=scope,\n\u001b[1;32m    767\u001b[0m                          \u001b[0minput_types\u001b[0m\u001b[0;34m=\u001b[0m\u001b[0minput_types\u001b[0m\u001b[0;34m,\u001b[0m \u001b[0mattrs\u001b[0m\u001b[0;34m=\u001b[0m\u001b[0mattr_protos\u001b[0m\u001b[0;34m,\u001b[0m\u001b[0;34m\u001b[0m\u001b[0m\n\u001b[0;32m--> 768\u001b[0;31m                          op_def=op_def)\n\u001b[0m\u001b[1;32m    769\u001b[0m         \u001b[0;32mif\u001b[0m \u001b[0moutput_structure\u001b[0m\u001b[0;34m:\u001b[0m\u001b[0;34m\u001b[0m\u001b[0m\n\u001b[1;32m    770\u001b[0m           \u001b[0moutputs\u001b[0m \u001b[0;34m=\u001b[0m \u001b[0mop\u001b[0m\u001b[0;34m.\u001b[0m\u001b[0moutputs\u001b[0m\u001b[0;34m\u001b[0m\u001b[0m\n",
      "\u001b[0;32m~/anaconda3/lib/python3.6/site-packages/tensorflow/python/framework/ops.py\u001b[0m in \u001b[0;36mcreate_op\u001b[0;34m(self, op_type, inputs, dtypes, input_types, name, attrs, op_def, compute_shapes, compute_device)\u001b[0m\n\u001b[1;32m   2336\u001b[0m                     original_op=self._default_original_op, op_def=op_def)\n\u001b[1;32m   2337\u001b[0m     \u001b[0;32mif\u001b[0m \u001b[0mcompute_shapes\u001b[0m\u001b[0;34m:\u001b[0m\u001b[0;34m\u001b[0m\u001b[0m\n\u001b[0;32m-> 2338\u001b[0;31m       \u001b[0mset_shapes_for_outputs\u001b[0m\u001b[0;34m(\u001b[0m\u001b[0mret\u001b[0m\u001b[0;34m)\u001b[0m\u001b[0;34m\u001b[0m\u001b[0m\n\u001b[0m\u001b[1;32m   2339\u001b[0m     \u001b[0mself\u001b[0m\u001b[0;34m.\u001b[0m\u001b[0m_add_op\u001b[0m\u001b[0;34m(\u001b[0m\u001b[0mret\u001b[0m\u001b[0;34m)\u001b[0m\u001b[0;34m\u001b[0m\u001b[0m\n\u001b[1;32m   2340\u001b[0m     \u001b[0mself\u001b[0m\u001b[0;34m.\u001b[0m\u001b[0m_record_op_seen_by_control_dependencies\u001b[0m\u001b[0;34m(\u001b[0m\u001b[0mret\u001b[0m\u001b[0;34m)\u001b[0m\u001b[0;34m\u001b[0m\u001b[0m\n",
      "\u001b[0;32m~/anaconda3/lib/python3.6/site-packages/tensorflow/python/framework/ops.py\u001b[0m in \u001b[0;36mset_shapes_for_outputs\u001b[0;34m(op)\u001b[0m\n\u001b[1;32m   1717\u001b[0m       \u001b[0mshape_func\u001b[0m \u001b[0;34m=\u001b[0m \u001b[0m_call_cpp_shape_fn_and_require_op\u001b[0m\u001b[0;34m\u001b[0m\u001b[0m\n\u001b[1;32m   1718\u001b[0m \u001b[0;34m\u001b[0m\u001b[0m\n\u001b[0;32m-> 1719\u001b[0;31m   \u001b[0mshapes\u001b[0m \u001b[0;34m=\u001b[0m \u001b[0mshape_func\u001b[0m\u001b[0;34m(\u001b[0m\u001b[0mop\u001b[0m\u001b[0;34m)\u001b[0m\u001b[0;34m\u001b[0m\u001b[0m\n\u001b[0m\u001b[1;32m   1720\u001b[0m   \u001b[0;32mif\u001b[0m \u001b[0mshapes\u001b[0m \u001b[0;32mis\u001b[0m \u001b[0;32mNone\u001b[0m\u001b[0;34m:\u001b[0m\u001b[0;34m\u001b[0m\u001b[0m\n\u001b[1;32m   1721\u001b[0m     raise RuntimeError(\n",
      "\u001b[0;32m~/anaconda3/lib/python3.6/site-packages/tensorflow/python/framework/ops.py\u001b[0m in \u001b[0;36mcall_with_requiring\u001b[0;34m(op)\u001b[0m\n\u001b[1;32m   1667\u001b[0m \u001b[0;34m\u001b[0m\u001b[0m\n\u001b[1;32m   1668\u001b[0m   \u001b[0;32mdef\u001b[0m \u001b[0mcall_with_requiring\u001b[0m\u001b[0;34m(\u001b[0m\u001b[0mop\u001b[0m\u001b[0;34m)\u001b[0m\u001b[0;34m:\u001b[0m\u001b[0;34m\u001b[0m\u001b[0m\n\u001b[0;32m-> 1669\u001b[0;31m     \u001b[0;32mreturn\u001b[0m \u001b[0mcall_cpp_shape_fn\u001b[0m\u001b[0;34m(\u001b[0m\u001b[0mop\u001b[0m\u001b[0;34m,\u001b[0m \u001b[0mrequire_shape_fn\u001b[0m\u001b[0;34m=\u001b[0m\u001b[0;32mTrue\u001b[0m\u001b[0;34m)\u001b[0m\u001b[0;34m\u001b[0m\u001b[0m\n\u001b[0m\u001b[1;32m   1670\u001b[0m \u001b[0;34m\u001b[0m\u001b[0m\n\u001b[1;32m   1671\u001b[0m   \u001b[0m_call_cpp_shape_fn_and_require_op\u001b[0m \u001b[0;34m=\u001b[0m \u001b[0mcall_with_requiring\u001b[0m\u001b[0;34m\u001b[0m\u001b[0m\n",
      "\u001b[0;32m~/anaconda3/lib/python3.6/site-packages/tensorflow/python/framework/common_shapes.py\u001b[0m in \u001b[0;36mcall_cpp_shape_fn\u001b[0;34m(op, input_tensors_needed, input_tensors_as_shapes_needed, debug_python_shape_fn, require_shape_fn)\u001b[0m\n\u001b[1;32m    608\u001b[0m     res = _call_cpp_shape_fn_impl(op, input_tensors_needed,\n\u001b[1;32m    609\u001b[0m                                   \u001b[0minput_tensors_as_shapes_needed\u001b[0m\u001b[0;34m,\u001b[0m\u001b[0;34m\u001b[0m\u001b[0m\n\u001b[0;32m--> 610\u001b[0;31m                                   debug_python_shape_fn, require_shape_fn)\n\u001b[0m\u001b[1;32m    611\u001b[0m     \u001b[0;32mif\u001b[0m \u001b[0;32mnot\u001b[0m \u001b[0misinstance\u001b[0m\u001b[0;34m(\u001b[0m\u001b[0mres\u001b[0m\u001b[0;34m,\u001b[0m \u001b[0mdict\u001b[0m\u001b[0;34m)\u001b[0m\u001b[0;34m:\u001b[0m\u001b[0;34m\u001b[0m\u001b[0m\n\u001b[1;32m    612\u001b[0m       \u001b[0;31m# Handles the case where _call_cpp_shape_fn_impl calls unknown_shape(op).\u001b[0m\u001b[0;34m\u001b[0m\u001b[0;34m\u001b[0m\u001b[0m\n",
      "\u001b[0;32m~/anaconda3/lib/python3.6/site-packages/tensorflow/python/framework/common_shapes.py\u001b[0m in \u001b[0;36m_call_cpp_shape_fn_impl\u001b[0;34m(op, input_tensors_needed, input_tensors_as_shapes_needed, debug_python_shape_fn, require_shape_fn)\u001b[0m\n\u001b[1;32m    674\u001b[0m       \u001b[0mmissing_shape_fn\u001b[0m \u001b[0;34m=\u001b[0m \u001b[0;32mTrue\u001b[0m\u001b[0;34m\u001b[0m\u001b[0m\n\u001b[1;32m    675\u001b[0m     \u001b[0;32melse\u001b[0m\u001b[0;34m:\u001b[0m\u001b[0;34m\u001b[0m\u001b[0m\n\u001b[0;32m--> 676\u001b[0;31m       \u001b[0;32mraise\u001b[0m \u001b[0mValueError\u001b[0m\u001b[0;34m(\u001b[0m\u001b[0merr\u001b[0m\u001b[0;34m.\u001b[0m\u001b[0mmessage\u001b[0m\u001b[0;34m)\u001b[0m\u001b[0;34m\u001b[0m\u001b[0m\n\u001b[0m\u001b[1;32m    677\u001b[0m \u001b[0;34m\u001b[0m\u001b[0m\n\u001b[1;32m    678\u001b[0m   \u001b[0;32mif\u001b[0m \u001b[0mmissing_shape_fn\u001b[0m\u001b[0;34m:\u001b[0m\u001b[0;34m\u001b[0m\u001b[0m\n",
      "\u001b[0;31mValueError\u001b[0m: Negative dimension size caused by subtracting 5 from 1 for 'conv1d_26/convolution/Conv2D' (op: 'Conv2D') with input shapes: [?,1,1,128], [1,5,128,128]."
     ]
    }
   ],
   "source": [
    "print('Buidl model...')\n",
    "MAX_SEQUENCE_LENGTH=1000\n",
    "model=Sequential()\n",
    "model.add(Embedding(128,64,input_length=10))\n",
    "model.add(Conv1D(128, 5, activation='relu'))\n",
    "model.add(MaxPooling1D(5))\n",
    "model.add(Conv1D(128, 5, activation='relu'))\n",
    "model.add(MaxPooling1D(35))\n",
    "model.add(Flatten())\n",
    "model.add(Dense(420011, activation='softmax'))\n",
    "model.compile(loss='categorical_crossentropy',optimizer='adam',metrics=['acc'])\n",
    "model.fit(x_train, y_train, validation_data=(x_val, y_val),epochs=2, batch_size=128)\n",
    "score, acc = model.evaluate(x_test, y_test,batch_size=batch_size)\n",
    "print(score,acc)"
   ]
  },
  {
   "cell_type": "code",
   "execution_count": 96,
   "metadata": {},
   "outputs": [
    {
     "ename": "NameError",
     "evalue": "name 'n_classes' is not defined",
     "output_type": "error",
     "traceback": [
      "\u001b[0;31m---------------------------------------------------------------------------\u001b[0m",
      "\u001b[0;31mNameError\u001b[0m                                 Traceback (most recent call last)",
      "\u001b[0;32m<ipython-input-96-d2e065e5f09a>\u001b[0m in \u001b[0;36m<module>\u001b[0;34m()\u001b[0m\n\u001b[1;32m     10\u001b[0m \u001b[0mmodel\u001b[0m\u001b[0;34m.\u001b[0m\u001b[0madd\u001b[0m\u001b[0;34m(\u001b[0m\u001b[0mDropout\u001b[0m\u001b[0;34m(\u001b[0m\u001b[0;36m0.25\u001b[0m\u001b[0;34m)\u001b[0m\u001b[0;34m)\u001b[0m\u001b[0;34m\u001b[0m\u001b[0m\n\u001b[1;32m     11\u001b[0m \u001b[0mmodel\u001b[0m\u001b[0;34m.\u001b[0m\u001b[0madd\u001b[0m\u001b[0;34m(\u001b[0m\u001b[0mSimpleRNN\u001b[0m\u001b[0;34m(\u001b[0m\u001b[0;36m100\u001b[0m\u001b[0;34m,\u001b[0m\u001b[0mreturn_sequences\u001b[0m\u001b[0;34m=\u001b[0m\u001b[0;32mTrue\u001b[0m\u001b[0;34m)\u001b[0m\u001b[0;34m)\u001b[0m\u001b[0;34m\u001b[0m\u001b[0m\n\u001b[0;32m---> 12\u001b[0;31m \u001b[0mmodel\u001b[0m\u001b[0;34m.\u001b[0m\u001b[0madd\u001b[0m\u001b[0;34m(\u001b[0m\u001b[0mTimeDistributed\u001b[0m\u001b[0;34m(\u001b[0m\u001b[0mDense\u001b[0m\u001b[0;34m(\u001b[0m\u001b[0mn_classes\u001b[0m\u001b[0;34m,\u001b[0m \u001b[0mactivation\u001b[0m\u001b[0;34m=\u001b[0m\u001b[0;34m'softmax'\u001b[0m\u001b[0;34m)\u001b[0m\u001b[0;34m)\u001b[0m\u001b[0;34m)\u001b[0m\u001b[0;34m\u001b[0m\u001b[0m\n\u001b[0m\u001b[1;32m     13\u001b[0m \u001b[0mmodel\u001b[0m\u001b[0;34m.\u001b[0m\u001b[0mcompile\u001b[0m\u001b[0;34m(\u001b[0m\u001b[0;34m'rmsprop'\u001b[0m\u001b[0;34m,\u001b[0m \u001b[0;34m'categorical_crossentropy'\u001b[0m\u001b[0;34m)\u001b[0m\u001b[0;34m\u001b[0m\u001b[0m\n",
      "\u001b[0;31mNameError\u001b[0m: name 'n_classes' is not defined"
     ]
    }
   ],
   "source": [
    "from keras.models import Sequential\n",
    "from keras.layers.embeddings import Embedding\n",
    "from keras.layers.recurrent import SimpleRNN\n",
    "from keras.layers.core import Dense, Dropout\n",
    "from keras.layers.wrappers import TimeDistributed\n",
    "from keras.layers import Convolution1D,GRU\n",
    "n_vocab=1000\n",
    "model = Sequential()\n",
    "model.add(Embedding(n_vocab,100))\n",
    "model.add(Dropout(0.25))\n",
    "model.add(SimpleRNN(100,return_sequences=True))\n",
    "model.add(TimeDistributed(Dense(420011, activation='softmax')))\n",
    "model.compile('rmsprop', 'categorical_crossentropy')"
   ]
  },
  {
   "cell_type": "code",
   "execution_count": null,
   "metadata": {},
   "outputs": [],
   "source": []
  }
 ],
 "metadata": {
  "kernelspec": {
   "display_name": "Python 3",
   "language": "python",
   "name": "python3"
  },
  "language_info": {
   "codemirror_mode": {
    "name": "ipython",
    "version": 3
   },
   "file_extension": ".py",
   "mimetype": "text/x-python",
   "name": "python",
   "nbconvert_exporter": "python",
   "pygments_lexer": "ipython3",
   "version": "3.6.4"
  }
 },
 "nbformat": 4,
 "nbformat_minor": 2
}
